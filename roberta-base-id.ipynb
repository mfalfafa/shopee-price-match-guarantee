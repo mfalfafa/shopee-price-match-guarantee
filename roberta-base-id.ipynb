{
 "cells": [
  {
   "cell_type": "code",
   "execution_count": 1,
   "id": "guided-insider",
   "metadata": {
    "_cell_guid": "b1076dfc-b9ad-4769-8c92-a6c4dae69d19",
    "_uuid": "8f2839f25d086af736a60e9eeb907d3b93b6e0e5",
    "execution": {
     "iopub.execute_input": "2021-05-08T05:01:04.514814Z",
     "iopub.status.busy": "2021-05-08T05:01:04.509486Z",
     "iopub.status.idle": "2021-05-08T05:01:13.455577Z",
     "shell.execute_reply": "2021-05-08T05:01:13.456377Z"
    },
    "papermill": {
     "duration": 8.968102,
     "end_time": "2021-05-08T05:01:13.456736",
     "exception": false,
     "start_time": "2021-05-08T05:01:04.488634",
     "status": "completed"
    },
    "tags": []
   },
   "outputs": [],
   "source": [
    "import tensorflow.keras.backend as K\n",
    "import itertools\n",
    "import matplotlib\n",
    "import scipy\n",
    "import sklearn\n",
    "from matplotlib import pyplot as plt\n",
    "from datetime import datetime\n",
    "from functools import partial\n",
    "import pickle\n",
    "\n",
    "import os\n",
    "import math\n",
    "import random\n",
    "import numpy as np\n",
    "import pandas as pd\n",
    "import tensorflow as tf\n",
    "import tensorflow_addons as tfa\n",
    "from tensorflow.keras.layers import Dense, Input\n",
    "from tensorflow.keras.optimizers import Adam\n",
    "from tensorflow.keras.models import Model\n",
    "from tensorflow.keras.callbacks import ModelCheckpoint\n",
    "from kaggle_datasets import KaggleDatasets\n",
    "import transformers\n",
    "from transformers import TFAutoModel, AutoTokenizer\n",
    "from tqdm.notebook import tqdm\n",
    "from tokenizers import Tokenizer, models, pre_tokenizers, decoders, processors\n",
    "from transformers import TFAutoModel, AutoTokenizer\n",
    "\n",
    "from sklearn.preprocessing import StandardScaler\n",
    "\n",
    "# import cudf\n",
    "# import cuml\n",
    "# import cupy\n",
    "# from cuml.feature_extraction.text import TfidfVectorizer\n",
    "# from cuml.neighbors import NearestNeighbors\n",
    "\n",
    "from sklearn.neighbors import NearestNeighbors\n",
    "from sklearn.feature_extraction.text import TfidfVectorizer\n",
    "\n",
    "SEED = 42\n",
    "\n",
    "random.seed(SEED)\n",
    "np.random.seed(SEED)\n",
    "tf.random.set_seed(SEED)"
   ]
  },
  {
   "cell_type": "code",
   "execution_count": 2,
   "id": "round-force",
   "metadata": {
    "execution": {
     "iopub.execute_input": "2021-05-08T05:01:13.482113Z",
     "iopub.status.busy": "2021-05-08T05:01:13.481454Z",
     "iopub.status.idle": "2021-05-08T05:01:19.193067Z",
     "shell.execute_reply": "2021-05-08T05:01:19.193561Z"
    },
    "papermill": {
     "duration": 5.725457,
     "end_time": "2021-05-08T05:01:19.193752",
     "exception": false,
     "start_time": "2021-05-08T05:01:13.468295",
     "status": "completed"
    },
    "tags": []
   },
   "outputs": [
    {
     "name": "stdout",
     "output_type": "stream",
     "text": [
      "Device:  grpc://10.0.0.2:8470\n",
      "TPU\n"
     ]
    }
   ],
   "source": [
    "try:\n",
    "    tpu = tf.distribute.cluster_resolver.TPUClusterResolver()\n",
    "    print('Device: ', tpu.master())\n",
    "    tf.config.experimental_connect_to_cluster(tpu)\n",
    "    tf.tpu.experimental.initialize_tpu_system(tpu)\n",
    "    strategy = tf.distribute.experimental.TPUStrategy(tpu)\n",
    "    DEVICE = \"TPU\"\n",
    "except:\n",
    "    DEVICE = 'notTPU'\n",
    "    strategy = tf.distribute.get_strategy()\n",
    "print(DEVICE)\n",
    "\n",
    "AUTO = tf.data.experimental.AUTOTUNE\n",
    "\n",
    "# Configuration\n",
    "EPOCHS = 200\n",
    "BATCH_SIZE = 32*strategy.num_replicas_in_sync\n",
    "MODEL = '../input/tfroberta-base-indonesian/roberta-base-indonesian-522M'\n",
    "\n",
    "CLASSES = 11014"
   ]
  },
  {
   "cell_type": "code",
   "execution_count": 3,
   "id": "alleged-paste",
   "metadata": {
    "execution": {
     "iopub.execute_input": "2021-05-08T05:01:19.223941Z",
     "iopub.status.busy": "2021-05-08T05:01:19.223020Z",
     "iopub.status.idle": "2021-05-08T05:01:20.638002Z",
     "shell.execute_reply": "2021-05-08T05:01:20.637231Z"
    },
    "papermill": {
     "duration": 1.432685,
     "end_time": "2021-05-08T05:01:20.638156",
     "exception": false,
     "start_time": "2021-05-08T05:01:19.205471",
     "status": "completed"
    },
    "tags": []
   },
   "outputs": [],
   "source": [
    "train = pd.read_parquet(f\"../input/shopee-text-cleaner-roberta-base-id-all/train.parquet\", engine='pyarrow')\n",
    "\n",
    "x_train = train[['input_ids', 'att_mask', 'title_vec']].values\n",
    "y_train = train['label_group'].values\n",
    "\n",
    "inp1 = [x.tolist() for x in x_train[:,0]]\n",
    "inp2 = [x.tolist() for x in x_train[:,1]]\n",
    "inp3 = [x.tolist() for x in x_train[:,2]]"
   ]
  },
  {
   "cell_type": "code",
   "execution_count": 4,
   "id": "exact-affiliate",
   "metadata": {
    "execution": {
     "iopub.execute_input": "2021-05-08T05:01:20.721728Z",
     "iopub.status.busy": "2021-05-08T05:01:20.700791Z",
     "iopub.status.idle": "2021-05-08T05:01:57.233325Z",
     "shell.execute_reply": "2021-05-08T05:01:57.232611Z"
    },
    "papermill": {
     "duration": 36.583832,
     "end_time": "2021-05-08T05:01:57.233489",
     "exception": false,
     "start_time": "2021-05-08T05:01:20.649657",
     "status": "completed"
    },
    "tags": []
   },
   "outputs": [],
   "source": [
    "train_dataset = (\n",
    "    tf.data.Dataset\n",
    "    .from_tensor_slices(((inp1, inp2, inp3, y_train), y_train))\n",
    "    .repeat()\n",
    "    .shuffle(2048)\n",
    "    .batch(BATCH_SIZE)\n",
    "    .prefetch(AUTO)\n",
    ")\n",
    "\n",
    "del inp1, inp2, inp3"
   ]
  },
  {
   "cell_type": "code",
   "execution_count": 5,
   "id": "entitled-cleveland",
   "metadata": {
    "execution": {
     "iopub.execute_input": "2021-05-08T05:01:57.262750Z",
     "iopub.status.busy": "2021-05-08T05:01:57.262011Z",
     "iopub.status.idle": "2021-05-08T05:01:57.327549Z",
     "shell.execute_reply": "2021-05-08T05:01:57.328086Z"
    },
    "papermill": {
     "duration": 0.082923,
     "end_time": "2021-05-08T05:01:57.328291",
     "exception": false,
     "start_time": "2021-05-08T05:01:57.245368",
     "status": "completed"
    },
    "tags": []
   },
   "outputs": [],
   "source": [
    "from tensorflow.keras.models import Model, Sequential\n",
    "import keras.backend as K\n",
    "from keras.optimizers import SGD\n",
    "from tensorflow.keras.layers import (\n",
    "    Input, \n",
    "    Flatten, \n",
    "    Dense, \n",
    "    Dropout, \n",
    "    AveragePooling2D, \n",
    "    GlobalAveragePooling2D, \n",
    "    SpatialDropout2D, \n",
    "    BatchNormalization, \n",
    "    Activation, \n",
    "    Concatenate,\n",
    "    Embedding,\n",
    "    GlobalAveragePooling1D,\n",
    "    Lambda\n",
    ")"
   ]
  },
  {
   "cell_type": "code",
   "execution_count": 6,
   "id": "sharing-favorite",
   "metadata": {
    "execution": {
     "iopub.execute_input": "2021-05-08T05:01:57.372562Z",
     "iopub.status.busy": "2021-05-08T05:01:57.370956Z",
     "iopub.status.idle": "2021-05-08T05:01:57.373327Z",
     "shell.execute_reply": "2021-05-08T05:01:57.373811Z"
    },
    "papermill": {
     "duration": 0.033715,
     "end_time": "2021-05-08T05:01:57.373993",
     "exception": false,
     "start_time": "2021-05-08T05:01:57.340278",
     "status": "completed"
    },
    "tags": []
   },
   "outputs": [],
   "source": [
    "def plt_lr(epoch_count):\n",
    "    if epoch_count > 50:\n",
    "        epoch_count = 50\n",
    "    \n",
    "    rng = [i for i in range(epoch_count)]\n",
    "\n",
    "    plt.figure()\n",
    "    y = [lrfn(x) for x in rng]\n",
    "    plt.title(f'Learning rate schedule: {y[0]} to {y[epoch_count-1]}')\n",
    "    plt.plot(rng, y)\n",
    "\n",
    "def plt_acc(h):\n",
    "    plt.figure()\n",
    "    plt.plot(h.history[\"sparse_categorical_accuracy\"])\n",
    "    if 'val_sparse_categorical_accuracy' in h.history:\n",
    "        plt.plot(h.history[\"val_sparse_categorical_accuracy\"]) \n",
    "        plt.legend([\"training\",\"validation\"])       \n",
    "    else:\n",
    "        plt.legend([\"training\"])\n",
    "    plt.xlabel(\"epoch\")\n",
    "    plt.title(\"Sparse Categorical Accuracy\")\n",
    "    plt.show()\n",
    "    \n",
    "def plt_f1_score(h):\n",
    "    plt.figure()\n",
    "    plt.plot(h.history[\"f1_score\"])\n",
    "    if 'f1_score' in h.history:\n",
    "        plt.plot(h.history[\"f1_score\"]) \n",
    "        plt.legend([\"training\",\"validation\"])       \n",
    "    else:\n",
    "        plt.legend([\"training\"])\n",
    "    plt.xlabel(\"epoch\")\n",
    "    plt.title(\"F1 Score\")\n",
    "    plt.show()\n",
    "\n",
    "def plt_loss(h):\n",
    "    plt.figure()\n",
    "    plt.plot(h.history[\"loss\"])\n",
    "    if 'val_loss' in h.history:\n",
    "        plt.plot(h.history[\"val_loss\"]) \n",
    "        plt.legend([\"training\",\"validation\"])       \n",
    "    else:\n",
    "        plt.legend([\"training\"])\n",
    "    plt.legend([\"training\",\"validation\"])\n",
    "    plt.xlabel(\"epoch\")\n",
    "    plt.title(\"Loss\")\n",
    "    plt.show()\n",
    "\n",
    "class EpochCallback(tf.keras.callbacks.Callback):  \n",
    "    def on_epoch_begin(self, epoch, logs=None):\n",
    "        global current_epoch\n",
    "        global chance\n",
    "\n",
    "        current_epoch = epoch       \n",
    "        if current_epoch < 2:\n",
    "            chance = 0\n",
    "        elif current_epoch < 9:\n",
    "            chance = current_epoch - 1 # possible chance between 1 to 7\n",
    "        else:\n",
    "            chance = 8\n",
    "        print(f'Epoch #{current_epoch}')\n",
    "        print(datetime.now())\n",
    "\n",
    "es_val_f1 = tf.keras.callbacks.EarlyStopping(\n",
    "    monitor='f1_score', min_delta=0.001, patience=5, verbose=1, mode='max',\n",
    "    baseline=None, restore_best_weights=True\n",
    ")\n",
    "\n",
    "es_val_f1_stage2 = tf.keras.callbacks.EarlyStopping(\n",
    "    monitor='f1_score', min_delta=0.001, patience=15, verbose=1, mode='max',\n",
    "    baseline=None, restore_best_weights=True\n",
    ")\n",
    "\n",
    "cb_checkpoint = tf.keras.callbacks.ModelCheckpoint(\n",
    "    'backup_weights.h5',\n",
    "    save_weights_only=True,\n",
    "    monitor='f1_score',\n",
    "    mode='max',\n",
    "    save_best_only=True,\n",
    "    verbose=1\n",
    ")\n",
    "\n",
    "# cb_checkpoint = tf.keras.callbacks.ModelCheckpoint(\n",
    "#     \"backup.h5\",\n",
    "#     monitor=\"f1_score\", verbose=1, mode='max', save_best_only=True)\n",
    "cb_checkpoint._supports_tf_logs = False\n",
    "\n",
    "epoch_cb = EpochCallback()"
   ]
  },
  {
   "cell_type": "code",
   "execution_count": 7,
   "id": "fuzzy-lexington",
   "metadata": {
    "execution": {
     "iopub.execute_input": "2021-05-08T05:01:57.404363Z",
     "iopub.status.busy": "2021-05-08T05:01:57.403669Z",
     "iopub.status.idle": "2021-05-08T05:01:57.414465Z",
     "shell.execute_reply": "2021-05-08T05:01:57.414942Z"
    },
    "papermill": {
     "duration": 0.029128,
     "end_time": "2021-05-08T05:01:57.415143",
     "exception": false,
     "start_time": "2021-05-08T05:01:57.386015",
     "status": "completed"
    },
    "tags": []
   },
   "outputs": [],
   "source": [
    "# swish activation\n",
    "from keras.backend import sigmoid\n",
    "def swish(x, beta = 1):\n",
    "    return (x * sigmoid(beta * x))\n",
    "\n",
    "from keras.utils.generic_utils import get_custom_objects\n",
    "from keras.layers import Activation\n",
    "\n",
    "get_custom_objects().update({'swish': Activation(swish)})\n"
   ]
  },
  {
   "cell_type": "code",
   "execution_count": 8,
   "id": "approved-summer",
   "metadata": {
    "execution": {
     "iopub.execute_input": "2021-05-08T05:01:57.446098Z",
     "iopub.status.busy": "2021-05-08T05:01:57.445349Z",
     "iopub.status.idle": "2021-05-08T05:01:57.447199Z",
     "shell.execute_reply": "2021-05-08T05:01:57.447697Z"
    },
    "papermill": {
     "duration": 0.020398,
     "end_time": "2021-05-08T05:01:57.447878",
     "exception": false,
     "start_time": "2021-05-08T05:01:57.427480",
     "status": "completed"
    },
    "tags": []
   },
   "outputs": [],
   "source": [
    "from keras.layers import Dense, Input, LSTM, Embedding, Dropout, Activation, Reshape, multiply\n",
    "from keras.layers import Bidirectional, GlobalMaxPool1D,Bidirectional, Conv1D, GlobalMaxPooling1D, Conv2D\n",
    "from tensorflow import keras\n",
    "from tensorflow.keras import layers\n",
    "from tensorflow.keras.applications import ResNet50, InceptionResNetV2, Xception\n",
    "# from transformers import TFXLNetModel, XLNetTokenizer\n",
    "## for bert language model\n",
    "import transformers"
   ]
  },
  {
   "cell_type": "code",
   "execution_count": 9,
   "id": "editorial-arrest",
   "metadata": {
    "execution": {
     "iopub.execute_input": "2021-05-08T05:01:57.475139Z",
     "iopub.status.busy": "2021-05-08T05:01:57.474453Z",
     "iopub.status.idle": "2021-05-08T05:01:57.490166Z",
     "shell.execute_reply": "2021-05-08T05:01:57.490739Z"
    },
    "papermill": {
     "duration": 0.030955,
     "end_time": "2021-05-08T05:01:57.490927",
     "exception": false,
     "start_time": "2021-05-08T05:01:57.459972",
     "status": "completed"
    },
    "tags": []
   },
   "outputs": [],
   "source": [
    "class ArcMarginProduct(keras.layers.Layer):\n",
    "    '''\n",
    "    Implements large margin arc distance.\n",
    "\n",
    "    Reference:\n",
    "        https://arxiv.org/pdf/1801.07698.pdf\n",
    "        https://github.com/lyakaap/Landmark2019-1st-and-3rd-Place-Solution/\n",
    "            blob/master/src/modeling/metric_learning.py\n",
    "    '''\n",
    "    def __init__(self, n_classes, s=30, m=0.50, easy_margin=False, \n",
    "                 ls_eps=0.0, **kwargs):\n",
    "\n",
    "        super(ArcMarginProduct, self).__init__(**kwargs)\n",
    "\n",
    "        self.n_classes = n_classes\n",
    "        self.s = s\n",
    "        self.m = m\n",
    "        self.ls_eps = ls_eps\n",
    "        self.easy_margin = easy_margin\n",
    "        self.cos_m = tf.math.cos(m)\n",
    "        self.sin_m = tf.math.sin(m)\n",
    "        self.th = tf.math.cos(math.pi - m)\n",
    "        self.mm = tf.math.sin(math.pi - m) * m\n",
    "\n",
    "    def get_config(self):\n",
    "\n",
    "        config = super().get_config().copy()\n",
    "        config.update({\n",
    "            'n_classes': self.n_classes,\n",
    "            's': self.s,\n",
    "            'm': self.m,\n",
    "            'ls_eps': self.ls_eps,\n",
    "            'easy_margin': self.easy_margin,\n",
    "        })\n",
    "        return config\n",
    "\n",
    "    def build(self, input_shape):\n",
    "        super(ArcMarginProduct, self).build(input_shape[0])\n",
    "\n",
    "        self.W = self.add_weight(\n",
    "            name='W',\n",
    "            shape=(int(input_shape[0][-1]), self.n_classes),\n",
    "            initializer='glorot_uniform',\n",
    "            dtype='float32',\n",
    "            trainable=True,\n",
    "            regularizer=None)\n",
    "\n",
    "    def call(self, inputs):\n",
    "        X, y = inputs\n",
    "        y = tf.cast(y, dtype=tf.int32)\n",
    "        cosine = tf.matmul(\n",
    "            tf.math.l2_normalize(X, axis=1),\n",
    "            tf.math.l2_normalize(self.W, axis=0)\n",
    "        )\n",
    "        sine = tf.math.sqrt(1.0 - tf.math.pow(cosine, 2))\n",
    "        phi = cosine * self.cos_m - sine * self.sin_m\n",
    "        if self.easy_margin:\n",
    "            phi = tf.where(cosine > 0, phi, cosine)\n",
    "        else:\n",
    "            phi = tf.where(cosine > self.th, phi, cosine - self.mm)\n",
    "        one_hot = tf.cast(\n",
    "            tf.one_hot(y, depth=self.n_classes),\n",
    "            dtype=cosine.dtype\n",
    "        )\n",
    "        if self.ls_eps > 0:\n",
    "            one_hot = (1 - self.ls_eps) * one_hot + self.ls_eps / self.n_classes\n",
    "\n",
    "        output = (one_hot * phi) + ((1.0 - one_hot) * cosine)\n",
    "        output *= self.s\n",
    "        return output"
   ]
  },
  {
   "cell_type": "code",
   "execution_count": 10,
   "id": "three-married",
   "metadata": {
    "execution": {
     "iopub.execute_input": "2021-05-08T05:01:57.518828Z",
     "iopub.status.busy": "2021-05-08T05:01:57.518124Z",
     "iopub.status.idle": "2021-05-08T05:01:57.529392Z",
     "shell.execute_reply": "2021-05-08T05:01:57.529945Z"
    },
    "papermill": {
     "duration": 0.026771,
     "end_time": "2021-05-08T05:01:57.530127",
     "exception": false,
     "start_time": "2021-05-08T05:01:57.503356",
     "status": "completed"
    },
    "tags": []
   },
   "outputs": [],
   "source": [
    "def get_bert_model(mname = MODEL):\n",
    "    \n",
    "    idx = layers.Input((105), dtype=\"int32\", name=\"input_idx\")\n",
    "    masks = layers.Input((105), dtype=\"int32\", name=\"input_masks\")\n",
    "    \n",
    "    nlp = TFAutoModel.from_pretrained(mname)\n",
    "    bert_out= nlp([idx, masks])[0]\n",
    "    \n",
    "    ## fine-tuning\n",
    "    x = layers.GlobalAveragePooling1D()(bert_out)\n",
    "    x = layers.Dense(750, activation=\"swish\", name='text-embed')(x)\n",
    "    \n",
    "    model_title = Sequential([\n",
    "        Input(shape=(100,), name='title-input'),\n",
    "        Embedding(25000, 150, input_length=100, name='title-embed'),\n",
    "        Dropout(0.2),\n",
    "        Conv1D(300, 3, padding='valid', activation='relu', strides=1),\n",
    "        GlobalMaxPool1D(),\n",
    "        Dense(720, name='title-dense1'), #650 -> 0.81\n",
    "        Activation('swish', name='title-act1'),\n",
    "        Dropout(0.2),\n",
    "        \n",
    "        Dense(650, name='title-dense2'),\n",
    "        BatchNormalization(name='title-bn2'),\n",
    "        Activation('swish', name='title-act2'),\n",
    "    ], name='title-vec')\n",
    "    \n",
    "    margin = ArcMarginProduct(\n",
    "        n_classes = CLASSES, \n",
    "        s = 30, \n",
    "        m = 0.7, \n",
    "        name='head/arc_margin', \n",
    "        dtype='float32'\n",
    "    )\n",
    "    \n",
    "    concatenate = Concatenate(name='concatenate')([x, model_title.output])\n",
    "    label = Input(shape=(), name='arc-input')\n",
    "    arc_face = margin([concatenate, label])\n",
    "    output = Dense(CLASSES, activation='softmax', name='output')(arc_face)\n",
    "    \n",
    "    model = Model(inputs=[idx, masks, model_title.input, label], outputs=[output])\n",
    "    \n",
    "    return model\n",
    "\n",
    "# model = get_bert_model()\n",
    "# model.summary()"
   ]
  },
  {
   "cell_type": "code",
   "execution_count": 11,
   "id": "disciplinary-internet",
   "metadata": {
    "execution": {
     "iopub.execute_input": "2021-05-08T05:01:57.557456Z",
     "iopub.status.busy": "2021-05-08T05:01:57.556842Z",
     "iopub.status.idle": "2021-05-08T05:01:57.563372Z",
     "shell.execute_reply": "2021-05-08T05:01:57.563912Z"
    },
    "papermill": {
     "duration": 0.021741,
     "end_time": "2021-05-08T05:01:57.564093",
     "exception": false,
     "start_time": "2021-05-08T05:01:57.542352",
     "status": "completed"
    },
    "tags": []
   },
   "outputs": [],
   "source": [
    "def get_lr_callback():\n",
    "    lr_start   = 0.000001\n",
    "    lr_max     = 0.000005 * BATCH_SIZE\n",
    "    lr_min     = 0.000001\n",
    "    lr_ramp_ep = 5\n",
    "    lr_sus_ep  = 0\n",
    "    lr_decay   = 0.8\n",
    "   \n",
    "    def lrfn(epoch):\n",
    "        if epoch < lr_ramp_ep:\n",
    "            lr = (lr_max - lr_start) / lr_ramp_ep * epoch + lr_start   \n",
    "        elif epoch < lr_ramp_ep + lr_sus_ep:\n",
    "            lr = lr_max    \n",
    "        else:\n",
    "            lr = (lr_max - lr_min) * lr_decay**(epoch - lr_ramp_ep - lr_sus_ep) + lr_min    \n",
    "        return lr\n",
    "\n",
    "    lr_callback = tf.keras.callbacks.LearningRateScheduler(lrfn, verbose = True)\n",
    "    return lr_callback"
   ]
  },
  {
   "cell_type": "code",
   "execution_count": 12,
   "id": "downtown-title",
   "metadata": {
    "execution": {
     "iopub.execute_input": "2021-05-08T05:01:57.592747Z",
     "iopub.status.busy": "2021-05-08T05:01:57.591782Z",
     "iopub.status.idle": "2021-05-08T05:02:05.345319Z",
     "shell.execute_reply": "2021-05-08T05:02:05.345807Z"
    },
    "papermill": {
     "duration": 7.769499,
     "end_time": "2021-05-08T05:02:05.345993",
     "exception": false,
     "start_time": "2021-05-08T05:01:57.576494",
     "status": "completed"
    },
    "tags": []
   },
   "outputs": [
    {
     "data": {
      "text/plain": [
       "<tensorflow.python.tpu.topology.Topology at 0x7f407c745e50>"
      ]
     },
     "execution_count": 12,
     "metadata": {},
     "output_type": "execute_result"
    }
   ],
   "source": [
    "tf.tpu.experimental.initialize_tpu_system(tpu)"
   ]
  },
  {
   "cell_type": "code",
   "execution_count": 13,
   "id": "worldwide-cathedral",
   "metadata": {
    "execution": {
     "iopub.execute_input": "2021-05-08T05:02:05.382813Z",
     "iopub.status.busy": "2021-05-08T05:02:05.382150Z",
     "iopub.status.idle": "2021-05-08T05:11:49.592389Z",
     "shell.execute_reply": "2021-05-08T05:11:49.591652Z"
    },
    "papermill": {
     "duration": 584.233591,
     "end_time": "2021-05-08T05:11:49.592543",
     "exception": false,
     "start_time": "2021-05-08T05:02:05.358952",
     "status": "completed"
    },
    "tags": []
   },
   "outputs": [
    {
     "name": "stderr",
     "output_type": "stream",
     "text": [
      "All model checkpoint layers were used when initializing TFRobertaModel.\n",
      "\n",
      "All the layers of TFRobertaModel were initialized from the model checkpoint at ../input/tfroberta-base-indonesian/roberta-base-indonesian-522M.\n",
      "If your task is similar to the task the model of the checkpoint was trained on, you can already use TFRobertaModel for predictions without further training.\n"
     ]
    },
    {
     "name": "stdout",
     "output_type": "stream",
     "text": [
      "Model: \"model\"\n",
      "__________________________________________________________________________________________________\n",
      "Layer (type)                    Output Shape         Param #     Connected to                     \n",
      "==================================================================================================\n",
      "title-input (InputLayer)        [(None, 100)]        0                                            \n",
      "__________________________________________________________________________________________________\n",
      "title-embed (Embedding)         (None, 100, 150)     3750000     title-input[0][0]                \n",
      "__________________________________________________________________________________________________\n",
      "dropout_37 (Dropout)            (None, 100, 150)     0           title-embed[0][0]                \n",
      "__________________________________________________________________________________________________\n",
      "conv1d (Conv1D)                 (None, 98, 300)      135300      dropout_37[0][0]                 \n",
      "__________________________________________________________________________________________________\n",
      "global_max_pooling1d (GlobalMax (None, 300)          0           conv1d[0][0]                     \n",
      "__________________________________________________________________________________________________\n",
      "title-dense1 (Dense)            (None, 720)          216720      global_max_pooling1d[0][0]       \n",
      "__________________________________________________________________________________________________\n",
      "title-act1 (Activation)         (None, 720)          0           title-dense1[0][0]               \n",
      "__________________________________________________________________________________________________\n",
      "input_idx (InputLayer)          [(None, 105)]        0                                            \n",
      "__________________________________________________________________________________________________\n",
      "input_masks (InputLayer)        [(None, 105)]        0                                            \n",
      "__________________________________________________________________________________________________\n",
      "dropout_38 (Dropout)            (None, 720)          0           title-act1[0][0]                 \n",
      "__________________________________________________________________________________________________\n",
      "tf_roberta_model (TFRobertaMode TFBaseModelOutputWit 125978112   input_idx[0][0]                  \n",
      "                                                                 input_masks[0][0]                \n",
      "__________________________________________________________________________________________________\n",
      "title-dense2 (Dense)            (None, 650)          468650      dropout_38[0][0]                 \n",
      "__________________________________________________________________________________________________\n",
      "global_average_pooling1d (Globa (None, 768)          0           tf_roberta_model[0][0]           \n",
      "__________________________________________________________________________________________________\n",
      "title-bn2 (BatchNormalization)  (None, 650)          2600        title-dense2[0][0]               \n",
      "__________________________________________________________________________________________________\n",
      "text-embed (Dense)              (None, 750)          576750      global_average_pooling1d[0][0]   \n",
      "__________________________________________________________________________________________________\n",
      "title-act2 (Activation)         (None, 650)          0           title-bn2[0][0]                  \n",
      "__________________________________________________________________________________________________\n",
      "concatenate (Concatenate)       (None, 1400)         0           text-embed[0][0]                 \n",
      "                                                                 title-act2[0][0]                 \n",
      "__________________________________________________________________________________________________\n",
      "arc-input (InputLayer)          [(None,)]            0                                            \n",
      "__________________________________________________________________________________________________\n",
      "head/arc_margin (ArcMarginProdu (None, 11014)        15419600    concatenate[0][0]                \n",
      "                                                                 arc-input[0][0]                  \n",
      "__________________________________________________________________________________________________\n",
      "output (Dense)                  (None, 11014)        121319210   head/arc_margin[0][0]            \n",
      "==================================================================================================\n",
      "Total params: 267,866,942\n",
      "Trainable params: 267,865,642\n",
      "Non-trainable params: 1,300\n",
      "__________________________________________________________________________________________________\n",
      "Epoch 1/19\n",
      "\n",
      "Epoch 00001: LearningRateScheduler reducing learning rate to 1e-06.\n",
      "133/133 [==============================] - 126s 169ms/step - loss: 9.6531 - sparse_categorical_accuracy: 1.7019e-04\n",
      "Epoch 2/19\n",
      "\n",
      "Epoch 00002: LearningRateScheduler reducing learning rate to 0.00025680000000000006.\n",
      "133/133 [==============================] - 22s 169ms/step - loss: 9.3659 - sparse_categorical_accuracy: 0.0111\n",
      "Epoch 3/19\n",
      "\n",
      "Epoch 00003: LearningRateScheduler reducing learning rate to 0.0005126000000000001.\n",
      "133/133 [==============================] - 23s 170ms/step - loss: 7.4647 - sparse_categorical_accuracy: 0.1310\n",
      "Epoch 4/19\n",
      "\n",
      "Epoch 00004: LearningRateScheduler reducing learning rate to 0.0007684000000000001.\n",
      "133/133 [==============================] - 22s 169ms/step - loss: 4.3342 - sparse_categorical_accuracy: 0.4357\n",
      "Epoch 5/19\n",
      "\n",
      "Epoch 00005: LearningRateScheduler reducing learning rate to 0.0010242.\n",
      "133/133 [==============================] - 23s 169ms/step - loss: 1.7195 - sparse_categorical_accuracy: 0.7531\n",
      "Epoch 6/19\n",
      "\n",
      "Epoch 00006: LearningRateScheduler reducing learning rate to 0.00128.\n",
      "133/133 [==============================] - 23s 170ms/step - loss: 0.6684 - sparse_categorical_accuracy: 0.8713\n",
      "Epoch 7/19\n",
      "\n",
      "Epoch 00007: LearningRateScheduler reducing learning rate to 0.0010242.\n",
      "133/133 [==============================] - 23s 170ms/step - loss: 0.4078 - sparse_categorical_accuracy: 0.9198\n",
      "Epoch 8/19\n",
      "\n",
      "Epoch 00008: LearningRateScheduler reducing learning rate to 0.0008195600000000003.\n",
      "133/133 [==============================] - 22s 169ms/step - loss: 0.2591 - sparse_categorical_accuracy: 0.9507\n",
      "Epoch 9/19\n",
      "\n",
      "Epoch 00009: LearningRateScheduler reducing learning rate to 0.0006558480000000003.\n",
      "133/133 [==============================] - 22s 169ms/step - loss: 0.1825 - sparse_categorical_accuracy: 0.9669\n",
      "Epoch 10/19\n",
      "\n",
      "Epoch 00010: LearningRateScheduler reducing learning rate to 0.0005248784000000002.\n",
      "133/133 [==============================] - 22s 169ms/step - loss: 0.1359 - sparse_categorical_accuracy: 0.9776\n",
      "Epoch 11/19\n",
      "\n",
      "Epoch 00011: LearningRateScheduler reducing learning rate to 0.0004201027200000002.\n",
      "133/133 [==============================] - 22s 169ms/step - loss: 0.1068 - sparse_categorical_accuracy: 0.9820\n",
      "Epoch 12/19\n",
      "\n",
      "Epoch 00012: LearningRateScheduler reducing learning rate to 0.0003362821760000002.\n",
      "133/133 [==============================] - 22s 169ms/step - loss: 0.0764 - sparse_categorical_accuracy: 0.9873\n",
      "Epoch 13/19\n",
      "\n",
      "Epoch 00013: LearningRateScheduler reducing learning rate to 0.00026922574080000017.\n",
      "133/133 [==============================] - 22s 169ms/step - loss: 0.0535 - sparse_categorical_accuracy: 0.9899\n",
      "Epoch 14/19\n",
      "\n",
      "Epoch 00014: LearningRateScheduler reducing learning rate to 0.00021558059264000014.\n",
      "133/133 [==============================] - 22s 169ms/step - loss: 0.0460 - sparse_categorical_accuracy: 0.9920\n",
      "Epoch 15/19\n",
      "\n",
      "Epoch 00015: LearningRateScheduler reducing learning rate to 0.0001726644741120001.\n",
      "133/133 [==============================] - 22s 169ms/step - loss: 0.0420 - sparse_categorical_accuracy: 0.9922\n",
      "Epoch 16/19\n",
      "\n",
      "Epoch 00016: LearningRateScheduler reducing learning rate to 0.0001383315792896001.\n",
      "133/133 [==============================] - 22s 169ms/step - loss: 0.0433 - sparse_categorical_accuracy: 0.9918\n",
      "Epoch 17/19\n",
      "\n",
      "Epoch 00017: LearningRateScheduler reducing learning rate to 0.00011086526343168008.\n",
      "133/133 [==============================] - 23s 169ms/step - loss: 0.0349 - sparse_categorical_accuracy: 0.9922\n",
      "Epoch 18/19\n",
      "\n",
      "Epoch 00018: LearningRateScheduler reducing learning rate to 8.889221074534406e-05.\n",
      "133/133 [==============================] - 23s 169ms/step - loss: 0.0298 - sparse_categorical_accuracy: 0.9920\n",
      "Epoch 19/19\n",
      "\n",
      "Epoch 00019: LearningRateScheduler reducing learning rate to 7.131376859627525e-05.\n",
      "133/133 [==============================] - 23s 170ms/step - loss: 0.0296 - sparse_categorical_accuracy: 0.9921\n"
     ]
    },
    {
     "data": {
      "image/png": "[encoded data removed]",
      "text/plain": [
       "<Figure size 432x288 with 1 Axes>"
      ]
     },
     "metadata": {
      "needs_background": "light"
     },
     "output_type": "display_data"
    },
    {
     "data": {
      "image/png": "[encoded data removed]",
      "text/plain": [
       "<Figure size 432x288 with 1 Axes>"
      ]
     },
     "metadata": {
      "needs_background": "light"
     },
     "output_type": "display_data"
    }
   ],
   "source": [
    "# fold 0: 24\n",
    "# fold 1: 10\n",
    "# fold 2: 9\n",
    "# fold 3: 17\n",
    "# avg: (24+10+9+17)/4 = 15\n",
    "# total epoch: 15 + 15*25/100 = 18.75 = 19\n",
    "\n",
    "with strategy.scope():\n",
    "    model = get_bert_model()\n",
    "    model.compile(\n",
    "        optimizer = tfa.optimizers.LAMB(1e-5),\n",
    "        loss = 'sparse_categorical_crossentropy',\n",
    "        metrics = ['sparse_categorical_accuracy']\n",
    "    )\n",
    "model.summary()\n",
    "    \n",
    "model.fit(\n",
    "    train_dataset, \n",
    "    steps_per_epoch=len(x_train)//BATCH_SIZE,\n",
    "    epochs = 19,\n",
    "    callbacks=[get_lr_callback()], verbose=1\n",
    ")\n",
    "\n",
    "h = model.history\n",
    "plt_acc(h)\n",
    "plt_loss(h)\n",
    "\n",
    "model.save_weights('model_weights.h5')"
   ]
  }
 ],
 "metadata": {
  "kernelspec": {
   "display_name": "Python 3",
   "language": "python",
   "name": "python3"
  },
  "language_info": {
   "codemirror_mode": {
    "name": "ipython",
    "version": 3
   },
   "file_extension": ".py",
   "mimetype": "text/x-python",
   "name": "python",
   "nbconvert_exporter": "python",
   "pygments_lexer": "ipython3",
   "version": "3.7.10"
  },
  "papermill": {
   "default_parameters": {},
   "duration": 657.11569,
   "end_time": "2021-05-08T05:11:53.199317",
   "environment_variables": {},
   "exception": null,
   "input_path": "__notebook__.ipynb",
   "output_path": "__notebook__.ipynb",
   "parameters": {},
   "start_time": "2021-05-08T05:00:56.083627",
   "version": "2.3.3"
  }
 },
 "nbformat": 4,
 "nbformat_minor": 5
}
