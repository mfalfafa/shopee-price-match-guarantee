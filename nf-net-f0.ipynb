{
 "cells": [
  {
   "cell_type": "code",
   "execution_count": 1,
   "id": "blind-turtle",
   "metadata": {
    "_cell_guid": "b1076dfc-b9ad-4769-8c92-a6c4dae69d19",
    "_uuid": "8f2839f25d086af736a60e9eeb907d3b93b6e0e5",
    "execution": {
     "iopub.execute_input": "2021-04-27T12:50:31.580297Z",
     "iopub.status.busy": "2021-04-27T12:50:31.576885Z",
     "iopub.status.idle": "2021-04-27T12:50:46.327368Z",
     "shell.execute_reply": "2021-04-27T12:50:46.327910Z"
    },
    "papermill": {
     "duration": 14.778606,
     "end_time": "2021-04-27T12:50:46.328296",
     "exception": false,
     "start_time": "2021-04-27T12:50:31.549690",
     "status": "completed"
    },
    "tags": []
   },
   "outputs": [],
   "source": [
    "import sys\n",
    "sys.path.append('../input/nfnets-keras')\n",
    "\n",
    "!pip install --quiet ../input/keras-efficientnet-whl/Keras_Applications-1.0.8-py3-none-any.whl\n",
    "# !pip install --quiet ../input/keras-efficientnet-whl/efficientnet-1.1.1-py3-none-any.whl\n",
    "\n",
    "import os\n",
    "import math\n",
    "import re\n",
    "import random\n",
    "import tensorflow as tf\n",
    "import tensorflow_addons as tfa\n",
    "import numpy as np\n",
    "import tensorflow.keras.backend as K\n",
    "# import efficientnet.keras as efn\n",
    "# import efficientnet\n",
    "import itertools\n",
    "import matplotlib\n",
    "import scipy\n",
    "import pandas as pd\n",
    "import sklearn\n",
    "from matplotlib import pyplot as plt\n",
    "from datetime import datetime\n",
    "from functools import partial\n",
    "from kaggle_datasets import KaggleDatasets\n",
    "import pickle\n",
    "from sklearn.preprocessing import StandardScaler\n",
    "from nfnet import NFNet, nfnet_params\n",
    "\n",
    "# import cudf\n",
    "# import cuml\n",
    "# import cupy\n",
    "# from cuml.feature_extraction.text import TfidfVectorizer\n",
    "# from cuml.neighbors import NearestNeighbors\n",
    "\n",
    "from sklearn.neighbors import NearestNeighbors\n",
    "from sklearn.feature_extraction.text import TfidfVectorizer\n",
    "\n",
    "SEED = 42\n",
    "\n",
    "random.seed(SEED)\n",
    "np.random.seed(SEED)\n",
    "tf.random.set_seed(SEED)"
   ]
  },
  {
   "cell_type": "code",
   "execution_count": 2,
   "id": "cleared-moral",
   "metadata": {
    "execution": {
     "iopub.execute_input": "2021-04-27T12:50:46.356964Z",
     "iopub.status.busy": "2021-04-27T12:50:46.356286Z",
     "iopub.status.idle": "2021-04-27T12:50:52.292546Z",
     "shell.execute_reply": "2021-04-27T12:50:52.291899Z"
    },
    "papermill": {
     "duration": 5.951488,
     "end_time": "2021-04-27T12:50:52.292697",
     "exception": false,
     "start_time": "2021-04-27T12:50:46.341209",
     "status": "completed"
    },
    "tags": []
   },
   "outputs": [
    {
     "name": "stdout",
     "output_type": "stream",
     "text": [
      "Device:  grpc://10.0.0.2:8470\n",
      "TPU\n"
     ]
    },
    {
     "data": {
      "text/plain": [
       "['gs://kds-35ca3d9caf2059d2b4654ba357185e69ba0a76100c52c2feefc7b4b1/fold_3/train00-8562.tfrec',\n",
       " 'gs://kds-35ca3d9caf2059d2b4654ba357185e69ba0a76100c52c2feefc7b4b1/fold_3/train01-8562.tfrec',\n",
       " 'gs://kds-35ca3d9caf2059d2b4654ba357185e69ba0a76100c52c2feefc7b4b1/fold_3/train02-8563.tfrec',\n",
       " 'gs://kds-35ca3d9caf2059d2b4654ba357185e69ba0a76100c52c2feefc7b4b1/fold_3/unseen.tfrec']"
      ]
     },
     "execution_count": 2,
     "metadata": {},
     "output_type": "execute_result"
    }
   ],
   "source": [
    "try:\n",
    "    tpu = tf.distribute.cluster_resolver.TPUClusterResolver()\n",
    "    print('Device: ', tpu.master())\n",
    "    tf.config.experimental_connect_to_cluster(tpu)\n",
    "    tf.tpu.experimental.initialize_tpu_system(tpu)\n",
    "    strategy = tf.distribute.experimental.TPUStrategy(tpu)\n",
    "    DEVICE = \"TPU\"\n",
    "except:\n",
    "    DEVICE = 'notTPU'\n",
    "    strategy = tf.distribute.get_strategy()\n",
    "print(DEVICE)\n",
    "\n",
    "FOLD = 3\n",
    "AUTO = tf.data.experimental.AUTOTUNE\n",
    "GCS_PATH = KaggleDatasets().get_gcs_path(f'shopee-tfrecord-512-gkf-4-folds-230421')\n",
    "REPLICAS = strategy.num_replicas_in_sync\n",
    "BATCH_SIZE = 32 * REPLICAS\n",
    "FILENAMES = tf.io.gfile.glob(GCS_PATH + f'/fold_{FOLD}/*.tfrec')\n",
    "FILENAMES"
   ]
  },
  {
   "cell_type": "code",
   "execution_count": 3,
   "id": "covered-american",
   "metadata": {
    "execution": {
     "iopub.execute_input": "2021-04-27T12:50:52.325062Z",
     "iopub.status.busy": "2021-04-27T12:50:52.324132Z",
     "iopub.status.idle": "2021-04-27T12:50:52.327340Z",
     "shell.execute_reply": "2021-04-27T12:50:52.326764Z"
    },
    "papermill": {
     "duration": 0.021253,
     "end_time": "2021-04-27T12:50:52.327518",
     "exception": false,
     "start_time": "2021-04-27T12:50:52.306265",
     "status": "completed"
    },
    "tags": []
   },
   "outputs": [],
   "source": [
    "IMAGE_SIZE = (512, 512)\n",
    "\n",
    "EPOCHS = 100\n",
    "LR = 0.001\n",
    "\n",
    "CLASSES = 11014"
   ]
  },
  {
   "cell_type": "code",
   "execution_count": 4,
   "id": "intimate-circle",
   "metadata": {
    "execution": {
     "iopub.execute_input": "2021-04-27T12:50:52.369284Z",
     "iopub.status.busy": "2021-04-27T12:50:52.368315Z",
     "iopub.status.idle": "2021-04-27T12:50:52.371516Z",
     "shell.execute_reply": "2021-04-27T12:50:52.371029Z"
    },
    "papermill": {
     "duration": 0.030447,
     "end_time": "2021-04-27T12:50:52.371668",
     "exception": false,
     "start_time": "2021-04-27T12:50:52.341221",
     "status": "completed"
    },
    "tags": []
   },
   "outputs": [],
   "source": [
    "def decode_image(image, img_size):\n",
    "    image = tf.image.decode_jpeg(image, channels=3)\n",
    "    image = tf.image.resize(image, img_size)\n",
    "    image = tf.cast(image, tf.float32) / 255.0\n",
    "    return tf.reshape(image, [*img_size, 3])\n",
    "\n",
    "# parse tfrecord files\n",
    "def _parse_image(proto, train):\n",
    "    features = {\n",
    "        \"image\": tf.io.FixedLenFeature([], tf.string), # tf.string means bytestring\n",
    "        \"title_vec\": tf.io.FixedLenFeature([100], tf.float32),  # shape [] means single element\n",
    "        \"phash_vec\": tf.io.FixedLenFeature([25], tf.float32),\n",
    "        \"label\": tf.io.FixedLenFeature([], tf.int64),  \n",
    "    }\n",
    "    return tf.io.parse_single_example(proto, features)\n",
    "\n",
    "# get image and label_group\n",
    "def get_image_and_label(proto, train, img_size):\n",
    "    sample = _parse_image(proto, train=train)\n",
    "    sample[\"image\"] = decode_image(sample[\"image\"], img_size)\n",
    "    image = sample[\"image\"]\n",
    "    title_vec = sample[\"title_vec\"]\n",
    "    phash_vec = sample[\"phash_vec\"]\n",
    "    label = tf.cast(sample['label'], tf.int32)\n",
    "#     label = tf.one_hot(tf.cast(sample['label'], tf.int32), len(CLASSES))\n",
    "    return (image, title_vec, label), label\n",
    "\n",
    "def get_training_dataset(tfr, batchsize, img_size = (512,512)):\n",
    "    return tfr.map(partial(get_image_and_label, train=True, img_size=img_size)).repeat().map(\n",
    "        lambda x,y: image_augmentation(x,y)).shuffle(1000).batch(batchsize).prefetch(AUTO)\n",
    "\n",
    "def get_validation_dataset(tfr, batchsize, img_size=(512, 512), train=True):\n",
    "    return tfr.map(partial(get_image_and_label, train=train, img_size=img_size)).batch(batchsize).prefetch(AUTO)\n",
    "\n",
    "def get_tfrecord_size(tfrecord):\n",
    "    return sum(1 for _ in tfrecord)"
   ]
  },
  {
   "cell_type": "code",
   "execution_count": 5,
   "id": "korean-malaysia",
   "metadata": {
    "execution": {
     "iopub.execute_input": "2021-04-27T12:50:52.406170Z",
     "iopub.status.busy": "2021-04-27T12:50:52.405516Z",
     "iopub.status.idle": "2021-04-27T12:50:52.408923Z",
     "shell.execute_reply": "2021-04-27T12:50:52.408310Z"
    },
    "papermill": {
     "duration": 0.023688,
     "end_time": "2021-04-27T12:50:52.409087",
     "exception": false,
     "start_time": "2021-04-27T12:50:52.385399",
     "status": "completed"
    },
    "tags": []
   },
   "outputs": [],
   "source": [
    "# Augmentation function & tf.image functions (flip, brightness, contrast, saturation, hue)\n",
    "# for train\n",
    "# @tf.function\n",
    "def image_augmentation(iw, label):\n",
    "    image, title_vec, label = iw\n",
    "\n",
    "    image = tf.image.random_flip_left_right(image)\n",
    "    image = tf.image.random_flip_up_down(image)\n",
    "    image = tf.image.random_hue(image, 0.01)\n",
    "    image = tf.image.random_saturation(image, 0.70, 1.30)\n",
    "    image = tf.image.random_contrast(image, 0.80, 1.20)\n",
    "    image = tf.image.random_brightness(image, 0.10)\n",
    "\n",
    "    return ((image, title_vec, label), label)"
   ]
  },
  {
   "cell_type": "code",
   "execution_count": 6,
   "id": "facial-waters",
   "metadata": {
    "execution": {
     "iopub.execute_input": "2021-04-27T12:50:52.458175Z",
     "iopub.status.busy": "2021-04-27T12:50:52.457262Z",
     "iopub.status.idle": "2021-04-27T12:50:52.524898Z",
     "shell.execute_reply": "2021-04-27T12:50:52.525513Z"
    },
    "papermill": {
     "duration": 0.097193,
     "end_time": "2021-04-27T12:50:52.525694",
     "exception": false,
     "start_time": "2021-04-27T12:50:52.428501",
     "status": "completed"
    },
    "tags": []
   },
   "outputs": [],
   "source": [
    "from tensorflow.keras.models import Model, Sequential\n",
    "import keras.backend as K\n",
    "from keras.optimizers import SGD\n",
    "from tensorflow.keras.layers import (\n",
    "    Input, \n",
    "    Flatten, \n",
    "    Dense, \n",
    "    Dropout, \n",
    "    AveragePooling2D, \n",
    "    GlobalAveragePooling2D, \n",
    "    SpatialDropout2D, \n",
    "    BatchNormalization, \n",
    "    Activation, \n",
    "    Concatenate,\n",
    "    Embedding,\n",
    "    GlobalAveragePooling1D,\n",
    "    Lambda\n",
    ")"
   ]
  },
  {
   "cell_type": "code",
   "execution_count": 7,
   "id": "running-rating",
   "metadata": {
    "execution": {
     "iopub.execute_input": "2021-04-27T12:50:52.565365Z",
     "iopub.status.busy": "2021-04-27T12:50:52.564409Z",
     "iopub.status.idle": "2021-04-27T12:50:52.582311Z",
     "shell.execute_reply": "2021-04-27T12:50:52.583097Z"
    },
    "papermill": {
     "duration": 0.043126,
     "end_time": "2021-04-27T12:50:52.583334",
     "exception": false,
     "start_time": "2021-04-27T12:50:52.540208",
     "status": "completed"
    },
    "tags": []
   },
   "outputs": [],
   "source": [
    "def plt_lr(epoch_count):\n",
    "    if epoch_count > 50:\n",
    "        epoch_count = 50\n",
    "    \n",
    "    rng = [i for i in range(epoch_count)]\n",
    "\n",
    "    plt.figure()\n",
    "    y = [lrfn(x) for x in rng]\n",
    "    plt.title(f'Learning rate schedule: {y[0]} to {y[epoch_count-1]}')\n",
    "    plt.plot(rng, y)\n",
    "\n",
    "def plt_acc(h):\n",
    "    plt.figure()\n",
    "    plt.plot(h.history[\"sparse_categorical_accuracy\"])\n",
    "    if 'val_sparse_categorical_accuracy' in h.history:\n",
    "        plt.plot(h.history[\"val_sparse_categorical_accuracy\"]) \n",
    "        plt.legend([\"training\",\"validation\"])       \n",
    "    else:\n",
    "        plt.legend([\"training\"])\n",
    "    plt.xlabel(\"epoch\")\n",
    "    plt.title(\"Sparse Categorical Accuracy\")\n",
    "    plt.show()\n",
    "    \n",
    "def plt_f1_score(h):\n",
    "    plt.figure()\n",
    "    plt.plot(h.history[\"f1_score\"])\n",
    "    if 'f1_score' in h.history:\n",
    "        plt.plot(h.history[\"f1_score\"]) \n",
    "        plt.legend([\"training\",\"validation\"])       \n",
    "    else:\n",
    "        plt.legend([\"training\"])\n",
    "    plt.xlabel(\"epoch\")\n",
    "    plt.title(\"F1 Score\")\n",
    "    plt.show()\n",
    "\n",
    "def plt_loss(h):\n",
    "    plt.figure()\n",
    "    plt.plot(h.history[\"loss\"])\n",
    "    if 'val_loss' in h.history:\n",
    "        plt.plot(h.history[\"val_loss\"]) \n",
    "        plt.legend([\"training\",\"validation\"])       \n",
    "    else:\n",
    "        plt.legend([\"training\"])\n",
    "    plt.legend([\"training\",\"validation\"])\n",
    "    plt.xlabel(\"epoch\")\n",
    "    plt.title(\"Loss\")\n",
    "    plt.show()"
   ]
  },
  {
   "cell_type": "code",
   "execution_count": 8,
   "id": "distant-three",
   "metadata": {
    "execution": {
     "iopub.execute_input": "2021-04-27T12:50:52.633389Z",
     "iopub.status.busy": "2021-04-27T12:50:52.632390Z",
     "iopub.status.idle": "2021-04-27T12:50:52.634836Z",
     "shell.execute_reply": "2021-04-27T12:50:52.635327Z"
    },
    "papermill": {
     "duration": 0.028824,
     "end_time": "2021-04-27T12:50:52.635530",
     "exception": false,
     "start_time": "2021-04-27T12:50:52.606706",
     "status": "completed"
    },
    "tags": []
   },
   "outputs": [],
   "source": [
    "es_val_f1 = tf.keras.callbacks.EarlyStopping(\n",
    "    monitor='f1_score', min_delta=0.001, patience=10, verbose=1, mode='max',\n",
    "    baseline=None, restore_best_weights=True\n",
    ")\n",
    "\n",
    "es_val_f1_stage2 = tf.keras.callbacks.EarlyStopping(\n",
    "    monitor='f1_score', min_delta=0.001, patience=15, verbose=1, mode='max',\n",
    "    baseline=None, restore_best_weights=True\n",
    ")\n",
    "\n",
    "cb_checkpoint = tf.keras.callbacks.ModelCheckpoint(\n",
    "    \"backup_weights_nfnet.h5\",\n",
    "    monitor=\"f1_score\", verbose=1, mode='max', save_best_only=True, save_weights_only=True)\n",
    "\n",
    "cb_checkpoint._supports_tf_logs = False"
   ]
  },
  {
   "cell_type": "code",
   "execution_count": 9,
   "id": "straight-brook",
   "metadata": {
    "execution": {
     "iopub.execute_input": "2021-04-27T12:50:52.671062Z",
     "iopub.status.busy": "2021-04-27T12:50:52.670111Z",
     "iopub.status.idle": "2021-04-27T12:50:52.684409Z",
     "shell.execute_reply": "2021-04-27T12:50:52.684922Z"
    },
    "papermill": {
     "duration": 0.033607,
     "end_time": "2021-04-27T12:50:52.685109",
     "exception": false,
     "start_time": "2021-04-27T12:50:52.651502",
     "status": "completed"
    },
    "tags": []
   },
   "outputs": [],
   "source": [
    "# swish activation\n",
    "from keras.backend import sigmoid\n",
    "def swish(x, beta = 1):\n",
    "    return (x * sigmoid(beta * x))\n",
    "\n",
    "from keras.utils.generic_utils import get_custom_objects\n",
    "from keras.layers import Activation\n",
    "\n",
    "get_custom_objects().update({'swish': Activation(swish)})"
   ]
  },
  {
   "cell_type": "code",
   "execution_count": 10,
   "id": "bibliographic-alaska",
   "metadata": {
    "execution": {
     "iopub.execute_input": "2021-04-27T12:50:52.729347Z",
     "iopub.status.busy": "2021-04-27T12:50:52.728456Z",
     "iopub.status.idle": "2021-04-27T12:50:52.731523Z",
     "shell.execute_reply": "2021-04-27T12:50:52.731997Z"
    },
    "papermill": {
     "duration": 0.026932,
     "end_time": "2021-04-27T12:50:52.732210",
     "exception": false,
     "start_time": "2021-04-27T12:50:52.705278",
     "status": "completed"
    },
    "tags": []
   },
   "outputs": [],
   "source": [
    "from keras.layers import Dense, Input, LSTM, Embedding, Dropout, Activation\n",
    "from keras.layers import Bidirectional, GlobalMaxPool1D,Bidirectional, Conv1D, GlobalMaxPooling1D, Conv2D\n",
    "from tensorflow import keras\n",
    "from tensorflow.keras import layers"
   ]
  },
  {
   "cell_type": "code",
   "execution_count": 11,
   "id": "sapphire-hungary",
   "metadata": {
    "execution": {
     "iopub.execute_input": "2021-04-27T12:50:52.962373Z",
     "iopub.status.busy": "2021-04-27T12:50:52.960451Z",
     "iopub.status.idle": "2021-04-27T12:50:52.963144Z",
     "shell.execute_reply": "2021-04-27T12:50:52.963661Z"
    },
    "papermill": {
     "duration": 0.213278,
     "end_time": "2021-04-27T12:50:52.963837",
     "exception": false,
     "start_time": "2021-04-27T12:50:52.750559",
     "status": "completed"
    },
    "tags": []
   },
   "outputs": [],
   "source": [
    "class ArcMarginProduct(keras.layers.Layer):\n",
    "    '''\n",
    "    Implements large margin arc distance.\n",
    "\n",
    "    Reference:\n",
    "        https://arxiv.org/pdf/1801.07698.pdf\n",
    "        https://github.com/lyakaap/Landmark2019-1st-and-3rd-Place-Solution/\n",
    "            blob/master/src/modeling/metric_learning.py\n",
    "    '''\n",
    "    def __init__(self, n_classes, s=30, m=0.50, easy_margin=False,\n",
    "                 ls_eps=0.0, **kwargs):\n",
    "\n",
    "        super(ArcMarginProduct, self).__init__(**kwargs)\n",
    "\n",
    "        self.n_classes = n_classes\n",
    "        self.s = s\n",
    "        self.m = m\n",
    "        self.ls_eps = ls_eps\n",
    "        self.easy_margin = easy_margin\n",
    "        self.cos_m = tf.math.cos(m)\n",
    "        self.sin_m = tf.math.sin(m)\n",
    "        self.th = tf.math.cos(math.pi - m)\n",
    "        self.mm = tf.math.sin(math.pi - m) * m\n",
    "\n",
    "    def get_config(self):\n",
    "\n",
    "        config = super().get_config().copy()\n",
    "        config.update({\n",
    "            'n_classes': self.n_classes,\n",
    "            's': self.s,\n",
    "            'm': self.m,\n",
    "            'ls_eps': self.ls_eps,\n",
    "            'easy_margin': self.easy_margin,\n",
    "        })\n",
    "        return config\n",
    "\n",
    "    def build(self, input_shape):\n",
    "        super(ArcMarginProduct, self).build(input_shape[0])\n",
    "\n",
    "        self.W = self.add_weight(\n",
    "            name='W',\n",
    "            shape=(int(input_shape[0][-1]), self.n_classes),\n",
    "            initializer='glorot_uniform',\n",
    "            dtype='float32',\n",
    "            trainable=True,\n",
    "            regularizer=None)\n",
    "\n",
    "    def call(self, inputs):\n",
    "        X, y = inputs\n",
    "        y = tf.cast(y, dtype=tf.int32)\n",
    "        cosine = tf.matmul(\n",
    "            tf.math.l2_normalize(X, axis=1),\n",
    "            tf.math.l2_normalize(self.W, axis=0)\n",
    "        )\n",
    "        sine = tf.math.sqrt(1.0 - tf.math.pow(cosine, 2))\n",
    "        phi = cosine * self.cos_m - sine * self.sin_m\n",
    "        if self.easy_margin:\n",
    "            phi = tf.where(cosine > 0, phi, cosine)\n",
    "        else:\n",
    "            phi = tf.where(cosine > self.th, phi, cosine - self.mm)\n",
    "        one_hot = tf.cast(\n",
    "            tf.one_hot(y, depth=self.n_classes),\n",
    "            dtype=cosine.dtype\n",
    "        )\n",
    "        if self.ls_eps > 0:\n",
    "            one_hot = (1 - self.ls_eps) * one_hot + self.ls_eps / self.n_classes\n",
    "\n",
    "        output = (one_hot * phi) + ((1.0 - one_hot) * cosine)\n",
    "        output *= self.s\n",
    "        return output"
   ]
  },
  {
   "cell_type": "code",
   "execution_count": 12,
   "id": "discrete-tactics",
   "metadata": {
    "execution": {
     "iopub.execute_input": "2021-04-27T12:50:53.007268Z",
     "iopub.status.busy": "2021-04-27T12:50:53.006257Z",
     "iopub.status.idle": "2021-04-27T12:50:53.418425Z",
     "shell.execute_reply": "2021-04-27T12:50:53.417847Z"
    },
    "papermill": {
     "duration": 0.440109,
     "end_time": "2021-04-27T12:50:53.418624",
     "exception": false,
     "start_time": "2021-04-27T12:50:52.978515",
     "status": "completed"
    },
    "tags": []
   },
   "outputs": [],
   "source": [
    "GCS_PATH = KaggleDatasets().get_gcs_path(f'nfnet-model-checkpoints-270421')\n",
    "MODEL_FILENAMES = tf.io.gfile.glob(GCS_PATH + f'/NFNET-F0/*')\n",
    "\n",
    "def get_nfnet(weights='gs://kds-b135c9e4ed7b978eb1b05abe18f78523f1fe076527cd1f64555bd7b1/NFNET-F0/F0_NFNet'):\n",
    "    nfnet_ = NFNet(\n",
    "        num_classes=1000,\n",
    "        variant='F0',\n",
    "        drop_rate=0.2,\n",
    "        label_smoothing=0.1,\n",
    "        ema_decay=0.99999,\n",
    "        clipping_factor=0.01,\n",
    "        include_top=False,\n",
    "    )\n",
    "    if weights is not None:\n",
    "        nfnet_.load_weights(weights)\n",
    "\n",
    "    model_image = Sequential([\n",
    "        nfnet_,\n",
    "        GlobalAveragePooling2D(name='effb1-pooling'),\n",
    "        BatchNormalization(name='effb1_bn1'),\n",
    "        Dropout(0.2),\n",
    "        Dense(2400, name='effb1_dense1'),\n",
    "        Activation('swish', name='effb1_act1'),\n",
    "    ], name='effb1-img')\n",
    "    model_image.build((None, *IMAGE_SIZE, 3))\n",
    "    \n",
    "    model_title = Sequential([\n",
    "        Input(shape=(100,), name='title-input'),\n",
    "        Embedding(25000, 150, input_length=100, name='title-embed'),\n",
    "        Dropout(0.2),\n",
    "        Conv1D(300, 3, padding='valid', activation='relu', strides=1, name='title-conv'),\n",
    "        GlobalMaxPool1D(name='title-globalMax'),\n",
    "        Dense(720, name='title-dense1'), #650 -> 0.81\n",
    "        Activation('swish', name='title-act1'),\n",
    "        Dropout(0.2),\n",
    "        \n",
    "        Dense(650, name='title-dense2'),\n",
    "        BatchNormalization(name='title-bn2'),\n",
    "        Activation('swish', name='title-act2'),\n",
    "    ], name='title-vec')\n",
    "    \n",
    "    margin = ArcMarginProduct(\n",
    "        n_classes = CLASSES, \n",
    "        s = 30, \n",
    "        m = 0.7, \n",
    "        name='head/arc_margin', \n",
    "        dtype='float32'\n",
    "    )\n",
    "\n",
    "    concatenate = Concatenate(name='concatenate')([model_image.output, model_title.output])\n",
    "    label = Input(shape=(), name='arc-input')\n",
    "    arc_face = margin([concatenate, label])\n",
    "    output = Dense(CLASSES, activation='softmax', name='output')(arc_face)\n",
    "    \n",
    "    model = Model(inputs=[model_image.input, model_title.input, label], outputs=output)\n",
    "    return model\n",
    "\n",
    "# model = get_nfnet()\n",
    "# model.summary()"
   ]
  },
  {
   "cell_type": "code",
   "execution_count": 13,
   "id": "affected-anderson",
   "metadata": {
    "execution": {
     "iopub.execute_input": "2021-04-27T12:50:53.455872Z",
     "iopub.status.busy": "2021-04-27T12:50:53.455212Z",
     "iopub.status.idle": "2021-04-27T12:50:53.457781Z",
     "shell.execute_reply": "2021-04-27T12:50:53.458271Z"
    },
    "papermill": {
     "duration": 0.024981,
     "end_time": "2021-04-27T12:50:53.458449",
     "exception": false,
     "start_time": "2021-04-27T12:50:53.433468",
     "status": "completed"
    },
    "tags": []
   },
   "outputs": [],
   "source": [
    "def get_lr_callback():\n",
    "    lr_start   = 0.000001\n",
    "    lr_max     = 0.000005 * BATCH_SIZE\n",
    "    lr_min     = 0.000001\n",
    "    lr_ramp_ep = 5\n",
    "    lr_sus_ep  = 0\n",
    "    lr_decay   = 0.8\n",
    "   \n",
    "    def lrfn(epoch):\n",
    "        if epoch < lr_ramp_ep:\n",
    "            lr = (lr_max - lr_start) / lr_ramp_ep * epoch + lr_start   \n",
    "        elif epoch < lr_ramp_ep + lr_sus_ep:\n",
    "            lr = lr_max    \n",
    "        else:\n",
    "            lr = (lr_max - lr_min) * lr_decay**(epoch - lr_ramp_ep - lr_sus_ep) + lr_min    \n",
    "        return lr\n",
    "\n",
    "    lr_callback = tf.keras.callbacks.LearningRateScheduler(lrfn, verbose = True)\n",
    "    return lr_callback"
   ]
  },
  {
   "cell_type": "code",
   "execution_count": 14,
   "id": "demonstrated-blood",
   "metadata": {
    "execution": {
     "iopub.execute_input": "2021-04-27T12:50:53.497213Z",
     "iopub.status.busy": "2021-04-27T12:50:53.495069Z",
     "iopub.status.idle": "2021-04-27T12:51:36.415892Z",
     "shell.execute_reply": "2021-04-27T12:51:36.416497Z"
    },
    "papermill": {
     "duration": 42.943046,
     "end_time": "2021-04-27T12:51:36.416795",
     "exception": false,
     "start_time": "2021-04-27T12:50:53.473749",
     "status": "completed"
    },
    "tags": []
   },
   "outputs": [],
   "source": [
    "tf.tpu.experimental.initialize_tpu_system(tpu)\n",
    "\n",
    "# custom callback for f1 evaluation metric\n",
    "# val_data = pd.read_parquet(f'../input/shopee-tfrecord-512-gkf-4-folds-230421/fold_{FOLD}/unseen.parquet', engine='pyarrow')\n",
    "# tmp = val_data.groupby('label_group').posting_id.agg('unique').to_dict()\n",
    "# val_data['target'] = val_data.label_group.map(tmp)\n",
    "# del tmp\n",
    "# customF1Score = CustomF1Score(validation_data = val_data)\n",
    "\n",
    "# for randomness\n",
    "ignore_order = tf.data.Options()\n",
    "ignore_order.experimental_deterministic = False\n",
    "\n",
    "train_records = tf.data.TFRecordDataset(FILENAMES, num_parallel_reads=AUTO)\n",
    "train_records = train_records.with_options(ignore_order)\n",
    "train_data = get_training_dataset(train_records, BATCH_SIZE, IMAGE_SIZE)\n",
    "train_data = train_data.map(lambda x, y: (x, y))    \n",
    "train_size = get_tfrecord_size(train_records)"
   ]
  },
  {
   "cell_type": "code",
   "execution_count": 15,
   "id": "interested-spectrum",
   "metadata": {
    "execution": {
     "iopub.execute_input": "2021-04-27T12:51:36.456313Z",
     "iopub.status.busy": "2021-04-27T12:51:36.455632Z",
     "iopub.status.idle": "2021-04-27T15:56:41.302913Z",
     "shell.execute_reply": "2021-04-27T15:56:41.302244Z"
    },
    "papermill": {
     "duration": 11104.871005,
     "end_time": "2021-04-27T15:56:41.303058",
     "exception": false,
     "start_time": "2021-04-27T12:51:36.432053",
     "status": "completed"
    },
    "tags": []
   },
   "outputs": [
    {
     "name": "stdout",
     "output_type": "stream",
     "text": [
      "Model: \"model\"\n",
      "__________________________________________________________________________________________________\n",
      "Layer (type)                    Output Shape         Param #     Connected to                     \n",
      "==================================================================================================\n",
      "title-input (InputLayer)        [(None, 100)]        0                                            \n",
      "__________________________________________________________________________________________________\n",
      "title-embed (Embedding)         (None, 100, 150)     3750000     title-input[0][0]                \n",
      "__________________________________________________________________________________________________\n",
      "dropout_1 (Dropout)             (None, 100, 150)     0           title-embed[0][0]                \n",
      "__________________________________________________________________________________________________\n",
      "title-conv (Conv1D)             (None, 98, 300)      135300      dropout_1[0][0]                  \n",
      "__________________________________________________________________________________________________\n",
      "NFNet_input (InputLayer)        [(None, 512, 512, 3) 0                                            \n",
      "__________________________________________________________________________________________________\n",
      "title-globalMax (GlobalMaxPooli (None, 300)          0           title-conv[0][0]                 \n",
      "__________________________________________________________________________________________________\n",
      "NFNet (NFNet)                   (None, 16, 16, 3072) 68416284    NFNet_input[0][0]                \n",
      "__________________________________________________________________________________________________\n",
      "title-dense1 (Dense)            (None, 720)          216720      title-globalMax[0][0]            \n",
      "__________________________________________________________________________________________________\n",
      "effb1-pooling (GlobalAveragePoo (None, 3072)         0           NFNet[0][0]                      \n",
      "__________________________________________________________________________________________________\n",
      "title-act1 (Activation)         (None, 720)          0           title-dense1[0][0]               \n",
      "__________________________________________________________________________________________________\n",
      "effb1_bn1 (BatchNormalization)  (None, 3072)         12288       effb1-pooling[0][0]              \n",
      "__________________________________________________________________________________________________\n",
      "dropout_2 (Dropout)             (None, 720)          0           title-act1[0][0]                 \n",
      "__________________________________________________________________________________________________\n",
      "dropout (Dropout)               (None, 3072)         0           effb1_bn1[0][0]                  \n",
      "__________________________________________________________________________________________________\n",
      "title-dense2 (Dense)            (None, 650)          468650      dropout_2[0][0]                  \n",
      "__________________________________________________________________________________________________\n",
      "effb1_dense1 (Dense)            (None, 2400)         7375200     dropout[0][0]                    \n",
      "__________________________________________________________________________________________________\n",
      "title-bn2 (BatchNormalization)  (None, 650)          2600        title-dense2[0][0]               \n",
      "__________________________________________________________________________________________________\n",
      "effb1_act1 (Activation)         (None, 2400)         0           effb1_dense1[0][0]               \n",
      "__________________________________________________________________________________________________\n",
      "title-act2 (Activation)         (None, 650)          0           title-bn2[0][0]                  \n",
      "__________________________________________________________________________________________________\n",
      "concatenate (Concatenate)       (None, 3050)         0           effb1_act1[0][0]                 \n",
      "                                                                 title-act2[0][0]                 \n",
      "__________________________________________________________________________________________________\n",
      "arc-input (InputLayer)          [(None,)]            0                                            \n",
      "__________________________________________________________________________________________________\n",
      "head/arc_margin (ArcMarginProdu (None, 11014)        33592700    concatenate[0][0]                \n",
      "                                                                 arc-input[0][0]                  \n",
      "__________________________________________________________________________________________________\n",
      "output (Dense)                  (None, 11014)        121319210   head/arc_margin[0][0]            \n",
      "==================================================================================================\n",
      "Total params: 235,288,952\n",
      "Trainable params: 235,281,508\n",
      "Non-trainable params: 7,444\n",
      "__________________________________________________________________________________________________\n",
      "Epoch 1/23\n",
      "\n",
      "Epoch 00001: LearningRateScheduler reducing learning rate to 1e-06.\n",
      "133/133 [==============================] - 583s 3s/step - loss: 9.4808 - sparse_categorical_accuracy: 3.6068e-05\n",
      "Epoch 2/23\n",
      "\n",
      "Epoch 00002: LearningRateScheduler reducing learning rate to 0.00025680000000000006.\n",
      "133/133 [==============================] - 471s 4s/step - loss: 9.2287 - sparse_categorical_accuracy: 0.0104\n",
      "Epoch 3/23\n",
      "\n",
      "Epoch 00003: LearningRateScheduler reducing learning rate to 0.0005126000000000001.\n",
      "133/133 [==============================] - 471s 4s/step - loss: 7.8481 - sparse_categorical_accuracy: 0.0811\n",
      "Epoch 4/23\n",
      "\n",
      "Epoch 00004: LearningRateScheduler reducing learning rate to 0.0007684000000000001.\n",
      "133/133 [==============================] - 472s 4s/step - loss: 5.8446 - sparse_categorical_accuracy: 0.2398\n",
      "Epoch 5/23\n",
      "\n",
      "Epoch 00005: LearningRateScheduler reducing learning rate to 0.0010242.\n",
      "133/133 [==============================] - 475s 4s/step - loss: 3.5629 - sparse_categorical_accuracy: 0.4957\n",
      "Epoch 6/23\n",
      "\n",
      "Epoch 00006: LearningRateScheduler reducing learning rate to 0.00128.\n",
      "133/133 [==============================] - 483s 4s/step - loss: 1.5711 - sparse_categorical_accuracy: 0.7889\n",
      "Epoch 7/23\n",
      "\n",
      "Epoch 00007: LearningRateScheduler reducing learning rate to 0.0010242.\n",
      "133/133 [==============================] - 478s 4s/step - loss: 0.4237 - sparse_categorical_accuracy: 0.9429\n",
      "Epoch 8/23\n",
      "\n",
      "Epoch 00008: LearningRateScheduler reducing learning rate to 0.0008195600000000003.\n",
      "133/133 [==============================] - 479s 4s/step - loss: 0.1590 - sparse_categorical_accuracy: 0.9749\n",
      "Epoch 9/23\n",
      "\n",
      "Epoch 00009: LearningRateScheduler reducing learning rate to 0.0006558480000000003.\n",
      "133/133 [==============================] - 477s 4s/step - loss: 0.1040 - sparse_categorical_accuracy: 0.9836\n",
      "Epoch 10/23\n",
      "\n",
      "Epoch 00010: LearningRateScheduler reducing learning rate to 0.0005248784000000002.\n",
      "133/133 [==============================] - 478s 4s/step - loss: 0.0664 - sparse_categorical_accuracy: 0.9906\n",
      "Epoch 11/23\n",
      "\n",
      "Epoch 00011: LearningRateScheduler reducing learning rate to 0.0004201027200000002.\n",
      "133/133 [==============================] - 480s 4s/step - loss: 0.0394 - sparse_categorical_accuracy: 0.9948\n",
      "Epoch 12/23\n",
      "\n",
      "Epoch 00012: LearningRateScheduler reducing learning rate to 0.0003362821760000002.\n",
      "133/133 [==============================] - 479s 4s/step - loss: 0.0290 - sparse_categorical_accuracy: 0.9966\n",
      "Epoch 13/23\n",
      "\n",
      "Epoch 00013: LearningRateScheduler reducing learning rate to 0.00026922574080000017.\n",
      "133/133 [==============================] - 482s 4s/step - loss: 0.0231 - sparse_categorical_accuracy: 0.9973\n",
      "Epoch 14/23\n",
      "\n",
      "Epoch 00014: LearningRateScheduler reducing learning rate to 0.00021558059264000014.\n",
      "133/133 [==============================] - 478s 4s/step - loss: 0.0195 - sparse_categorical_accuracy: 0.9978\n",
      "Epoch 15/23\n",
      "\n",
      "Epoch 00015: LearningRateScheduler reducing learning rate to 0.0001726644741120001.\n",
      "133/133 [==============================] - 480s 4s/step - loss: 0.0122 - sparse_categorical_accuracy: 0.9984\n",
      "Epoch 16/23\n",
      "\n",
      "Epoch 00016: LearningRateScheduler reducing learning rate to 0.0001383315792896001.\n",
      "133/133 [==============================] - 480s 4s/step - loss: 0.0100 - sparse_categorical_accuracy: 0.9988\n",
      "Epoch 17/23\n",
      "\n",
      "Epoch 00017: LearningRateScheduler reducing learning rate to 0.00011086526343168008.\n",
      "133/133 [==============================] - 479s 4s/step - loss: 0.0098 - sparse_categorical_accuracy: 0.9989\n",
      "Epoch 18/23\n",
      "\n",
      "Epoch 00018: LearningRateScheduler reducing learning rate to 8.889221074534406e-05.\n",
      "133/133 [==============================] - 479s 4s/step - loss: 0.0072 - sparse_categorical_accuracy: 0.9992\n",
      "Epoch 19/23\n",
      "\n",
      "Epoch 00019: LearningRateScheduler reducing learning rate to 7.131376859627525e-05.\n",
      "133/133 [==============================] - 474s 4s/step - loss: 0.0061 - sparse_categorical_accuracy: 0.9993\n",
      "Epoch 20/23\n",
      "\n",
      "Epoch 00020: LearningRateScheduler reducing learning rate to 5.725101487702021e-05.\n",
      "133/133 [==============================] - 478s 4s/step - loss: 0.0052 - sparse_categorical_accuracy: 0.9995\n",
      "Epoch 21/23\n",
      "\n",
      "Epoch 00021: LearningRateScheduler reducing learning rate to 4.600081190161617e-05.\n",
      "133/133 [==============================] - 478s 4s/step - loss: 0.0037 - sparse_categorical_accuracy: 0.9995\n",
      "Epoch 22/23\n",
      "\n",
      "Epoch 00022: LearningRateScheduler reducing learning rate to 3.7000649521292936e-05.\n",
      "133/133 [==============================] - 476s 4s/step - loss: 0.0037 - sparse_categorical_accuracy: 0.9995\n",
      "Epoch 23/23\n",
      "\n",
      "Epoch 00023: LearningRateScheduler reducing learning rate to 2.9800519617034356e-05.\n",
      "133/133 [==============================] - 480s 4s/step - loss: 0.0030 - sparse_categorical_accuracy: 0.9996\n"
     ]
    },
    {
     "data": {
      "image/png": "[encoded data removed]",
      "text/plain": [
       "<Figure size 432x288 with 1 Axes>"
      ]
     },
     "metadata": {
      "needs_background": "light"
     },
     "output_type": "display_data"
    },
    {
     "data": {
      "image/png": "[encoded data removed]",
      "text/plain": [
       "<Figure size 432x288 with 1 Axes>"
      ]
     },
     "metadata": {
      "needs_background": "light"
     },
     "output_type": "display_data"
    }
   ],
   "source": [
    "# fold 0: 22\n",
    "# fold 1: 24\n",
    "# fold 2: 14\n",
    "# fold 3: 12\n",
    "# avg: (22+24+14+12)/4 = 18\n",
    "# total epoch: 18 + 18*25/100 = 22.5 = 23\n",
    "\n",
    "with strategy.scope():\n",
    "    model = get_nfnet()\n",
    "    model.compile(\n",
    "        optimizer = tfa.optimizers.LAMB(LR),\n",
    "        loss = [tf.keras.losses.SparseCategoricalCrossentropy()],\n",
    "        metrics = [tf.keras.metrics.SparseCategoricalAccuracy()]\n",
    "    )\n",
    "model.summary()\n",
    "    \n",
    "model.fit(\n",
    "    train_data, \n",
    "    steps_per_epoch=train_size//BATCH_SIZE,\n",
    "    epochs = 23,\n",
    "    callbacks=[get_lr_callback()], verbose=1\n",
    ")\n",
    "\n",
    "h = model.history\n",
    "plt_acc(h)\n",
    "plt_loss(h)"
   ]
  },
  {
   "cell_type": "code",
   "execution_count": 16,
   "id": "documentary-school",
   "metadata": {
    "execution": {
     "iopub.execute_input": "2021-04-27T15:56:43.224672Z",
     "iopub.status.busy": "2021-04-27T15:56:43.224028Z",
     "iopub.status.idle": "2021-04-27T15:56:59.477853Z",
     "shell.execute_reply": "2021-04-27T15:56:59.477269Z"
    },
    "papermill": {
     "duration": 17.210296,
     "end_time": "2021-04-27T15:56:59.478005",
     "exception": false,
     "start_time": "2021-04-27T15:56:42.267709",
     "status": "completed"
    },
    "tags": []
   },
   "outputs": [],
   "source": [
    "model.save_weights('model_weights.h5')"
   ]
  }
 ],
 "metadata": {
  "kernelspec": {
   "display_name": "Python 3",
   "language": "python",
   "name": "python3"
  },
  "language_info": {
   "codemirror_mode": {
    "name": "ipython",
    "version": 3
   },
   "file_extension": ".py",
   "mimetype": "text/x-python",
   "name": "python",
   "nbconvert_exporter": "python",
   "pygments_lexer": "ipython3",
   "version": "3.7.10"
  },
  "papermill": {
   "default_parameters": {},
   "duration": 11199.871951,
   "end_time": "2021-04-27T15:57:03.394605",
   "environment_variables": {},
   "exception": null,
   "input_path": "__notebook__.ipynb",
   "output_path": "__notebook__.ipynb",
   "parameters": {},
   "start_time": "2021-04-27T12:50:23.522654",
   "version": "2.3.3"
  }
 },
 "nbformat": 4,
 "nbformat_minor": 5
}
